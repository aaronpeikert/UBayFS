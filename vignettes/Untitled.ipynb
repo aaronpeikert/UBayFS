{
 "cells": [
  {
   "cell_type": "markdown",
   "metadata": {},
   "source": [
    "## Introduction\n",
    "Feature selection plays a key role in data prepocessing, in order to reduce complexity, prevent overfitting of machine learning models and to reduce runtime. Furthermore, feature selection delivers insights into the systematic variation in the data, which is crucial in domains that rely on model interpretability, such as life sciences. UBayFS is an ensemble feature selection technique, embedden in a Bayesian statistical framework. With our approach we combine data and user knowledge, where the first is extracted from data driven ensemble feature selection techniques. The user can control the feature selection by assigning prior weights to features and penalizing specific feature combinations. Also, the user can define a maximal number of selected features and mustlink-constraints (features must be selected together) or cannotlink-constraints (features must not be selected together). A parameter $\\rho$ regulates the penalty strength --- violation of constraints can be valid but leads to a lower probability of the feature set that is derived from the violaed constraints.\n",
    "\n",
    "The UBayFS package implements the framework proposed in linktopaper, together with an interactive Shiny dashbord, which makes UBayFS applicable to R-users as well as non R-users. In this documentation we use the Wisconsin breast cancer dataset (reference) for demonstration. Specifically, the dataset consists of 569 samples and 30 features, and can be downloaded from ..link.. with the UBay function ``loadWisconsin()``. The features are derived from 10 characteristics, where each characteristic is represented by 3 summary statistics in the dataset. Thus, the characteristic *radius* results in features *radius mean*, *radius standard deviation* and *radius worst*.\n"
   ]
  },
  {
   "cell_type": "code",
   "execution_count": 1,
   "metadata": {},
   "outputs": [],
   "source": [
    "library(UBayFS)\n",
    "demo = loadWisconsin()"
   ]
  },
  {
   "cell_type": "markdown",
   "metadata": {},
   "source": [
    "## Background\n",
    "summary of theory chapter paper\n",
    "ensemble multinomial, formeln"
   ]
  },
  {
   "cell_type": "markdown",
   "metadata": {},
   "source": [
    "## Ensemble Training\n",
    "step by step build ubay model funktion beschreiben"
   ]
  },
  {
   "cell_type": "code",
   "execution_count": 2,
   "metadata": {},
   "outputs": [
    {
     "name": "stdout",
     "output_type": "stream",
     "text": [
      " UBayFS model summary \n",
      "  data:  569x30 \n",
      "  labels:  B: 357 M: 212 \n",
      "\n",
      "   === prior weights === \n",
      "  weights: ( 1,1,1,1,1,1,1,1,1,1,1,1,1,1,1,1,1,1,1,1,1,1,1,1,1,1,1,1,1,1 ) \n",
      "\n",
      "  === likelihood === \n",
      "  ensemble counts: ( 0,12,62,0,0,0,100,100,0,0,0,0,7,100,0,0,12,1,0,0,100,87,100,100,3,15,100,100,1,0 ) \n",
      "\n",
      "  === feature selection results === \n",
      "  MAP:  no output produced yet  \n"
     ]
    }
   ],
   "source": [
    "model = build.UBaymodel(data = demo$data,\n",
    "                        target = demo$labels,\n",
    "                        M = 100, \n",
    "                        tt_split = 0.75,\n",
    "                        nr_features = 10,\n",
    "                        method = \"mRMR\")\n",
    "summary(model)"
   ]
  },
  {
   "cell_type": "markdown",
   "metadata": {},
   "source": [
    "## User knowledge"
   ]
  },
  {
   "cell_type": "code",
   "execution_count": 3,
   "metadata": {},
   "outputs": [
    {
     "name": "stdout",
     "output_type": "stream",
     "text": [
      " [1] 10 15 20 16 15 10 12 17 21 14 10 15 20 16 15 10 12 17 21 14 10 15 20 16 15\n",
      "[26] 10 12 17 21 14\n"
     ]
    }
   ],
   "source": [
    "weights = rep(c(10,15,20,16,15,10,12,17, 21,14), 3)\n",
    "print(weights)\n",
    "\n",
    "model = setWeights(model=model, weights = weights)"
   ]
  },
  {
   "cell_type": "code",
   "execution_count": 4,
   "metadata": {},
   "outputs": [
    {
     "name": "stdout",
     "output_type": "stream",
     "text": [
      "$A\n",
      "  [,1] [,2] [,3] [,4] [,5] [,6] [,7] [,8] [,9] [,10] [,11] [,12] [,13] [,14]\n",
      "     1    1    1    1    1    1    1    1    1     1     1     1     1     1\n",
      "2   -1    0    0    0    0    0    0    0    0     0     1     0     0     0\n",
      "3   -1    0    0    0    0    0    0    0    0     0     0     0     0     0\n",
      "4    1    0    0    0    0    0    0    0    0     0    -1     0     0     0\n",
      "6    0    0    0    0    0    0    0    0    0     0    -1     0     0     0\n",
      "7    1    0    0    0    0    0    0    0    0     0     0     0     0     0\n",
      "8    0    0    0    0    0    0    0    0    0     0     1     0     0     0\n",
      "     1    0    0    0    0    0    0    0    0     1     0     0     0     0\n",
      "     0    0    0    0    0    0    0    0    0     0     0     0     0     0\n",
      "  [,15] [,16] [,17] [,18] [,19] [,20] [,21] [,22] [,23] [,24] [,25] [,26] [,27]\n",
      "      1     1     1     1     1     1     1     1     1     1     1     1     1\n",
      "2     0     0     0     0     0     0     0     0     0     0     0     0     0\n",
      "3     0     0     0     0     0     0     1     0     0     0     0     0     0\n",
      "4     0     0     0     0     0     0     0     0     0     0     0     0     0\n",
      "6     0     0     0     0     0     0     1     0     0     0     0     0     0\n",
      "7     0     0     0     0     0     0    -1     0     0     0     0     0     0\n",
      "8     0     0     0     0     0     0    -1     0     0     0     0     0     0\n",
      "      0     0     0     0     0     0     0     0     0     0     0     0     0\n",
      "      0     0     0     0     0     1     0     0     1     1     0     0     0\n",
      "  [,28] [,29] [,30]\n",
      "      1     1     1\n",
      "2     0     0     0\n",
      "3     0     0     0\n",
      "4     0     0     0\n",
      "6     0     0     0\n",
      "7     0     0     0\n",
      "8     0     0     0\n",
      "      0     0     0\n",
      "      0     0     0\n",
      "\n",
      "$b\n",
      "[1] 10  0  0  0  0  0  0  1  1\n",
      "\n",
      "$rho\n",
      "[1] 1 1 1 1 1 1 1 1 1\n",
      "\n",
      "attr(,\"class\")\n",
      "[1] \"UBayconstraint\"\n"
     ]
    }
   ],
   "source": [
    "constraints = buildConstraints(constraint_types = c(\"max_size\", \"must_link\", rep(\"cannot_link\", 2)),\n",
    "                               constraint_vars = list(10, # max_size\n",
    "                                                      c(1,11,21), # must_link\n",
    "                                                      c(1,10), # cannot_link\n",
    "                                                      c(20,23,24) #cannot_link\n",
    "                                                      ),\n",
    "                               num_features = ncol(model$data),\n",
    "#                                rho = c(Inf, # max_size\n",
    "#                                        0.1, # must_link\n",
    "#                                        1, # cannot_link\n",
    "#                                        1) # cannot_link\n",
    "rho=1\n",
    ")\n",
    "# )\n",
    "print(constraints)\n",
    "\n",
    "model = setConstraints(model = model, A = constraints$A, b = constraints$b, rho = constraints$rho)"
   ]
  },
  {
   "cell_type": "markdown",
   "metadata": {},
   "source": [
    "## Optimization and evaluation\n",
    "- train function with GA\n",
    "- print/summary/plot"
   ]
  },
  {
   "cell_type": "code",
   "execution_count": 5,
   "metadata": {},
   "outputs": [],
   "source": [
    "model = setOptim(model = model, popsize = 100, maxiter = 200)"
   ]
  },
  {
   "cell_type": "code",
   "execution_count": 6,
   "metadata": {},
   "outputs": [
    {
     "name": "stdout",
     "output_type": "stream",
     "text": [
      " UBayFS model summary \n",
      "  data:  569x30 \n",
      "  labels:  B: 357 M: 212 \n",
      "\n",
      "  === prior information === \n",
      " constraint 1: ( 1,1,1,1,1,1,1,1,1,1,1,1,1,1,1,1,1,1,1,1,1,1,1,1,1,1,1,1,1,1 ) x <= 10; rho = 1 \n",
      " constraint 2: ( -1,0,0,0,0,0,0,0,0,0,1,0,0,0,0,0,0,0,0,0,0,0,0,0,0,0,0,0,0,0 ) x <= 0; rho = 1 \n",
      " constraint 3: ( -1,0,0,0,0,0,0,0,0,0,0,0,0,0,0,0,0,0,0,0,1,0,0,0,0,0,0,0,0,0 ) x <= 0; rho = 1 \n",
      " constraint 4: ( 1,0,0,0,0,0,0,0,0,0,-1,0,0,0,0,0,0,0,0,0,0,0,0,0,0,0,0,0,0,0 ) x <= 0; rho = 1 \n",
      " constraint 5: ( 0,0,0,0,0,0,0,0,0,0,-1,0,0,0,0,0,0,0,0,0,1,0,0,0,0,0,0,0,0,0 ) x <= 0; rho = 1 \n",
      " constraint 6: ( 1,0,0,0,0,0,0,0,0,0,0,0,0,0,0,0,0,0,0,0,-1,0,0,0,0,0,0,0,0,0 ) x <= 0; rho = 1 \n",
      " constraint 7: ( 0,0,0,0,0,0,0,0,0,0,1,0,0,0,0,0,0,0,0,0,-1,0,0,0,0,0,0,0,0,0 ) x <= 0; rho = 1 \n",
      " constraint 8: ( 1,0,0,0,0,0,0,0,0,1,0,0,0,0,0,0,0,0,0,0,0,0,0,0,0,0,0,0,0,0 ) x <= 1; rho = 1 \n",
      " constraint 9: ( 0,0,0,0,0,0,0,0,0,0,0,0,0,0,0,0,0,0,0,1,0,0,1,1,0,0,0,0,0,0 ) x <= 1; rho = 1\n",
      "\n",
      "  === prior weights === \n",
      "  weights: ( 10,15,20,16,15,10,12,17,21,14,10,15,20,16,15,10,12,17,21,14,10,15,20,16,15,10,12,17,21,14 ) \n",
      "\n",
      "  === likelihood === \n",
      "  ensemble counts: ( 0,12,62,0,0,0,100,100,0,0,0,0,7,100,0,0,12,1,0,0,100,87,100,100,3,15,100,100,1,0 ) \n",
      "\n",
      "  === feature selection results === \n",
      "  MAP:  ( 0,1,1,0,0,0,1,1,0,0,0,0,1,1,0,0,0,0,0,0,0,1,1,0,0,0,1,1,0,0 )  \n"
     ]
    },
    {
     "data": {
      "image/png": "[encoded data removed]",
      "text/plain": [
       "plot without title"
      ]
     },
     "metadata": {
      "image/png": {
       "height": 420,
       "width": 420
      }
     },
     "output_type": "display_data"
    }
   ],
   "source": [
    "model = train(x = model)\n",
    "summary(model)\n",
    "plot(model)"
   ]
  },
  {
   "cell_type": "markdown",
   "metadata": {},
   "source": [
    "## Shiny dashboard"
   ]
  },
  {
   "cell_type": "markdown",
   "metadata": {},
   "source": [
    "<img src=\"UBay_Shiny_Screenshot.png\">"
   ]
  }
 ],
 "metadata": {
  "kernelspec": {
   "display_name": "R",
   "language": "R",
   "name": "ir"
  },
  "language_info": {
   "codemirror_mode": "r",
   "file_extension": ".r",
   "mimetype": "text/x-r-source",
   "name": "R",
   "pygments_lexer": "r",
   "version": "4.0.3"
  }
 },
 "nbformat": 4,
 "nbformat_minor": 4
}
